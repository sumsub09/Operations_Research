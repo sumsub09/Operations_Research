{
  "nbformat": 4,
  "nbformat_minor": 0,
  "metadata": {
    "colab": {
      "provenance": []
    },
    "kernelspec": {
      "name": "python3",
      "display_name": "Python 3"
    },
    "language_info": {
      "name": "python"
    }
  },
  "cells": [
    {
      "cell_type": "markdown",
      "metadata": {
        "id": "view-in-github"
      },
      "source": [
        "<a href=\"https://colab.research.google.com/github/nurfnick/Operations_Research/blob/main/RecursionAssignment.ipynb\" target=\"_parent\"><img src=\"https://colab.research.google.com/assets/colab-badge.svg\" alt=\"Open In Colab\"/></a>"
      ]
    },
    {
      "cell_type": "markdown",
      "source": [
        "# Recursion Assignment\n",
        "\n",
        "Solve the recursion\n",
        "$$\n",
        "f(n) = 7f(n-1)-10f(n-2)\\quad f(0) = 1\\quad f(1)=3\n",
        "$$\n",
        "\n",
        "1. Using mathematical method taught in class to get analytic equation.  Type up details and program function\n",
        "2. Using dynamic programming.\n",
        "3. Using dynamic programming and memoization.\n",
        "4. Compare the results of each function.  Discuss the advantages and disadvantages of each method.  Consider difficulty of solving and the time it would take to get the 1000 entry of the sequence in each of the three solutions."
      ],
      "metadata": {
        "id": "gxO997rzUWoK"
      }
    },
    {
      "cell_type": "code",
      "execution_count": 3,
      "metadata": {
        "id": "mxuJ44JFUVog",
        "colab": {
          "base_uri": "https://localhost:8080/"
        },
        "outputId": "af1f2c23-4fd6-49b1-d515-26c9ecca0e7b"
      },
      "outputs": [
        {
          "output_type": "stream",
          "name": "stdout",
          "text": [
            "f(5) = 1063\n"
          ]
        }
      ],
      "source": [
        "# 2. Using Dynamic Programming\n",
        "\n",
        "def solve_dynamic_programming(n):\n",
        "    if n == 0:\n",
        "        return 1\n",
        "    elif n == 1:\n",
        "        return 3\n",
        "\n",
        "    # Initialize an array to store intermediate results\n",
        "    dp = [0] * (n + 1)\n",
        "    dp[0] = 1\n",
        "    dp[1] = 3\n",
        "\n",
        "    # Build the solution bottom-up\n",
        "    for i in range(2, n + 1):\n",
        "        dp[i] = 7 * dp[i - 1] - 10 * dp[i - 2]\n",
        "\n",
        "    return dp[n]\n",
        "\n",
        "# Example usage:\n",
        "n = 5\n",
        "result = solve_dynamic_programming(n)\n",
        "print(f\"f({n}) = {result}\")\n",
        "\n"
      ]
    },
    {
      "cell_type": "code",
      "source": [
        "# 3. Using dynamic programming with memorization\n",
        "\n",
        "from functools import lru_cache\n",
        "\n",
        "@lru_cache(maxsize=None)\n",
        "def solve_recursion(n):\n",
        "    # Base cases\n",
        "    if n == 0:\n",
        "        return 1\n",
        "    elif n == 1:\n",
        "        return 3\n",
        "\n",
        "    # Recursive case\n",
        "    return 7 * solve_recursion(n - 1) - 10 * solve_recursion(n - 2)\n",
        "\n",
        "# Example usage:\n",
        "n = 5\n",
        "result = solve_recursion(n)\n",
        "print(f\"f({n}) = {result}\")\n",
        "\n"
      ],
      "metadata": {
        "colab": {
          "base_uri": "https://localhost:8080/"
        },
        "id": "5EGBMd4VOEr8",
        "outputId": "a45afff4-d098-413a-bdc7-4fda23e44ae7"
      },
      "execution_count": 2,
      "outputs": [
        {
          "output_type": "stream",
          "name": "stdout",
          "text": [
            "f(5) = 1063\n"
          ]
        }
      ]
    },
    {
      "cell_type": "code",
      "source": [],
      "metadata": {
        "id": "vwDlgtGeOXHm"
      },
      "execution_count": null,
      "outputs": []
    },
    {
      "cell_type": "markdown",
      "source": [
        "### Dynamic Programming without Memoization:\n",
        "\n",
        "**Advantages:**\n",
        "1. *No Overhead for Memoization:*\n",
        "   - Since there's no need to store and retrieve intermediate results, there is no overhead associated with memoization.\n",
        "   \n",
        "2. *Saves Memory:*\n",
        "   - Can be more memory-efficient for very large `n` because it doesn't store intermediate results in a memoization table.\n",
        "\n",
        "**Disadvantages:**\n",
        "1. *Redundant Computations:*\n",
        "   - Redundant computations occur as the algorithm doesn't store previously computed results, leading to potentially slower execution.\n",
        "   \n",
        "2. *Potential for Code Duplication:*\n",
        "   - In the absence of memoization, there might be repeated calculations, potentially leading to less readable and more error-prone code.\n",
        "\n",
        "---\n",
        "\n",
        "### Dynamic Programming with Memoization:\n",
        "\n",
        "**Advantages:**\n",
        "1. *Avoids Redundant Computations:*\n",
        "   - Memoization prevents redundant calculations by storing and reusing previously computed results.\n",
        "   \n",
        "2. *Improved Time Complexity:*\n",
        "   - Can lead to improved time complexity, especially for large `n`, by avoiding repeated calculations.\n",
        "   \n",
        "3. *Easier to Understand:*\n",
        "   - Generally results in more readable and intuitive code, as it mirrors the recursive structure while eliminating redundancy.\n",
        "\n",
        "**Disadvantages:**\n",
        "1. *Memory Overhead:*\n",
        "   - Requires additional memory to store the memoization table, which could be a concern for large `n` or limited memory environments.\n",
        "   \n",
        "2. *Implementation Complexity:*\n",
        "   - Adds complexity to the implementation, especially when dealing with the management of memoization data structures.\n",
        "\n",
        "---\n",
        "\n",
        "In summary, the choice between dynamic programming with and without memoization involves a trade-off between memory efficiency and computational efficiency. Memoization helps eliminate redundant computations at the cost of increased memory usage and implementation complexity. On the other hand, a solution without memoization saves memory but may perform redundant calculations, potentially impacting performance for large inputs.\n"
      ],
      "metadata": {
        "id": "YjRomCnvOzEJ"
      }
    }
  ]
}